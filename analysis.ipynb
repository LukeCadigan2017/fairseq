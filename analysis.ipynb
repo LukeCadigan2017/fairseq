{
 "cells": [
  {
   "cell_type": "code",
   "execution_count": 1,
   "metadata": {},
   "outputs": [
    {
     "name": "stdout",
     "output_type": "stream",
     "text": [
      "39\n",
      "dict_keys(['epoch', 'loss', 'nll_loss', 'ppl', 'wps', 'wpb', 'bsz', 'num_updates', 'best_loss'])\n"
     ]
    }
   ],
   "source": [
    "# loss_file=\"/Users/lukecadigan/thesis/fairseq/outputs/default_train.out\"\n",
    "loss_files=[\"/Users/lukecadigan/thesis/fairseq/fairseq_train_softmax.out\", \"/Users/lukecadigan/thesis/fairseq/fairseq_train_softmax2.out\"]\n",
    "\n",
    "\n",
    "# example_str=\"INFO | valid | epoch 100 | valid on 'valid' subset | loss 3.971 | nll_loss 2.427 | ppl 5.38 | bleu 34.71 | wps 6575.3 | wpb 2874.4 | bsz 117.4 | num_updates 110100 | best_bleu 35.43\"\n",
    "import re\n",
    "# pattern=r\"* \\| INFO \\| valid \\| epoch * \\| valid on 'valid' subset \\| *\"\n",
    "line_pattern=r\"INFO \\| valid \\| epoch (\\d+) \\| valid on 'valid' subset \\| loss\"\n",
    "all_metrics=[]\n",
    "\n",
    "for loss_file in loss_files:\n",
    "    with open(loss_file, 'r') as file:\n",
    "        for idx, line in enumerate(file):\n",
    "            if(re.findall(line_pattern,line )):            \n",
    "                # print(line)\n",
    "                pattern = r'(\\b[a-zA-Z_]+\\b)\\s+([\\d.]+)'\n",
    "                matches = re.findall(pattern, line)\n",
    "                \n",
    "                metrics = dict(matches)\n",
    "\n",
    "\n",
    "                for k, v in metrics.items():\n",
    "                    if '.' in v:\n",
    "                        metrics[k] = float(v)\n",
    "                    else:\n",
    "                        metrics[k] = int(v)\n",
    "\n",
    "                all_metrics.append(metrics)\n",
    "\n",
    "print(len(all_metrics))\n",
    "print(all_metrics[-1].keys())\n"
   ]
  },
  {
   "cell_type": "code",
   "execution_count": 2,
   "metadata": {},
   "outputs": [
    {
     "data": {
      "text/plain": [
       "<matplotlib.collections.PathCollection at 0x118ee8280>"
      ]
     },
     "execution_count": 2,
     "metadata": {},
     "output_type": "execute_result"
    },
    {
     "data": {
      "image/png": "[encoded data removed]",
      "text/plain": [
       "<Figure size 640x480 with 1 Axes>"
      ]
     },
     "metadata": {},
     "output_type": "display_data"
    }
   ],
   "source": [
    "import matplotlib.pyplot as plt\n",
    "x=[metrics[\"epoch\"] for metrics in all_metrics]\n",
    "y=[metrics[\"nll_loss\"] for metrics in all_metrics]\n",
    "plt.scatter(x,y)\n",
    "\n",
    "\n",
    "\n"
   ]
  },
  {
   "cell_type": "code",
   "execution_count": 3,
   "metadata": {},
   "outputs": [],
   "source": [
    "# x=[metrics[\"epoch\"] for metrics in all_metrics]\n",
    "# y=[metrics[\"bleu\"] for metrics in all_metrics]\n",
    "# plt.scatter(x,y)"
   ]
  }
 ],
 "metadata": {
  "kernelspec": {
   "display_name": "fairseq",
   "language": "python",
   "name": "python3"
  },
  "language_info": {
   "codemirror_mode": {
    "name": "ipython",
    "version": 3
   },
   "file_extension": ".py",
   "mimetype": "text/x-python",
   "name": "python",
   "nbconvert_exporter": "python",
   "pygments_lexer": "ipython3",
   "version": "3.9.18"
  }
 },
 "nbformat": 4,
 "nbformat_minor": 2
}
